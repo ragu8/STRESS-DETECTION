{
 "cells": [
  {
   "cell_type": "markdown",
   "metadata": {
    "canvas": {
     "comments": [],
     "componentType": "CodeCell",
     "copiedOriginId": null,
     "diskcache": false,
     "headerColor": "none",
     "id": "5064784c-0f9b-4165-a0c8-4a01076611e6",
     "isComponent": false,
     "name": "",
     "parents": []
    },
    "tags": []
   },
   "source": [
    "# Import Libraries"
   ]
  },
  {
   "cell_type": "code",
   "execution_count": 1,
   "metadata": {
    "canvas": {
     "comments": [],
     "componentType": "CodeCell",
     "copiedOriginId": null,
     "diskcache": false,
     "headerColor": "none",
     "id": "af21e861-94b0-43ce-a68d-8a4072a39e2b",
     "isComponent": true,
     "name": "Import Libraries",
     "parents": []
    },
    "tags": []
   },
   "outputs": [],
   "source": [
    "import pandas as pd\n",
    "import seaborn as sns\n",
    "import matplotlib as plt\n",
    "from keras.utils import to_categorical\n",
    "from sklearn.ensemble import RandomForestClassifier\n",
    "from sklearn.metrics import accuracy_score, precision_score, recall_score, confusion_matrix,f1_score\n"
   ]
  },
  {
   "cell_type": "markdown",
   "metadata": {
    "canvas": {
     "comments": [],
     "componentType": "CodeCell",
     "copiedOriginId": null,
     "diskcache": false,
     "headerColor": "none",
     "id": "8ea69da3-ac25-411a-b1d6-6b6f06e3b556",
     "isComponent": false,
     "name": "",
     "parents": []
    }
   },
   "source": [
    "# Loading Data"
   ]
  },
  {
   "cell_type": "code",
   "execution_count": 2,
   "metadata": {
    "canvas": {
     "comments": [],
     "componentType": "CodeCell",
     "copiedOriginId": null,
     "diskcache": false,
     "headerColor": "none",
     "id": "c5fe7858-ef0d-44c9-96e5-99b83ba3c760",
     "isComponent": true,
     "name": "Loading Data",
     "parents": [
      {
       "id": "af21e861-94b0-43ce-a68d-8a4072a39e2b",
       "name": "Import Libraries"
      }
     ]
    },
    "tags": []
   },
   "outputs": [],
   "source": [
    "mit_test_data = pd.read_csv('mitbih_test.csv', header=None)\n",
    "mit_train_data = pd.read_csv('mitbih_train.csv', header=None)\n",
    "x_train, y_train = mit_train_data.iloc[: , :-1], mit_train_data.iloc[: , -1]\n",
    "testX, testy = mit_test_data.iloc[: , :-1], mit_test_data.iloc[: , -1]\n",
    "y_train = to_categorical(y_train)\n",
    "testy = to_categorical(testy)"
   ]
  },
  {
   "cell_type": "code",
   "execution_count": 3,
   "metadata": {
    "canvas": {
     "comments": [],
     "componentType": "CodeCell",
     "copiedOriginId": null,
     "diskcache": false,
     "headerColor": "none",
     "id": "97f66bc5-1d83-4c39-9516-147c237c4180",
     "isComponent": false,
     "name": "",
     "parents": []
    }
   },
   "outputs": [
    {
     "name": "stdout",
     "output_type": "stream",
     "text": [
      "X shape = (87554, 187)\n",
      "y shape = (87554, 5)\n",
      "testX shape = (21892, 187)\n",
      "testy shape = (21892, 5)\n"
     ]
    }
   ],
   "source": [
    "print(\"X shape = \" +str(x_train.shape))\n",
    "print(\"y shape = \" +str(y_train.shape))\n",
    "\n",
    "print(\"testX shape = \" +str(testX.shape))\n",
    "print(\"testy shape = \"  +str(testy.shape))"
   ]
  },
  {
   "cell_type": "markdown",
   "metadata": {
    "canvas": {
     "comments": [],
     "componentType": "CodeCell",
     "copiedOriginId": null,
     "diskcache": false,
     "headerColor": "none",
     "id": "0724379d-0d0d-47d1-ab1f-f94bb8e37f13",
     "isComponent": false,
     "name": "",
     "parents": []
    }
   },
   "source": [
    "# User define functions"
   ]
  },
  {
   "cell_type": "code",
   "execution_count": 4,
   "metadata": {
    "canvas": {
     "comments": [],
     "componentType": "CodeCell",
     "copiedOriginId": null,
     "diskcache": false,
     "headerColor": "none",
     "id": "efd2c46c-227a-4e75-9495-9c02dabce407",
     "isComponent": true,
     "name": "User define functions",
     "parents": [
      {
       "id": "c5fe7858-ef0d-44c9-96e5-99b83ba3c760",
       "name": "Loading Data"
      }
     ]
    },
    "tags": []
   },
   "outputs": [],
   "source": [
    "def draw_cm(model):\n",
    "\n",
    "    y_pred = model.predict(testX) > 0\n",
    "    cm = confusion_matrix(testy[:, 0], y_pred[:, 0])\n",
    "    cm = pd.DataFrame(cm, index=['Stress', 'Non_Stress'], columns=['Stress', 'Non_Stress'])\n",
    "    cm_sns = sns.heatmap(cm, cmap=\"Blues\", annot=True ,fmt='g')\n",
    "    cm_sns.set_xlabel('predicted')\n",
    "    cm_sns.set_ylabel('actual')\n",
    "    plt.show()\n",
    "\n",
    "def metrices(model):\n",
    "    y_pred = model.predict(testX) > 0\n",
    "    accuracy = accuracy_score(testy, y_pred)\n",
    "    precision = precision_score(testy, y_pred, average='macro')\n",
    "    recall = recall_score(testy, y_pred, average='macro')\n",
    "    f1 = f1_score(testy, y_pred, average='macro')\n",
    "    metrices = {\"accuracy\": accuracy, \"precision\": precision, \"recall_score\": recall, \"f1_score\": f1}\n",
    "    df = pd.DataFrame(data=metrices, index=[1])\n",
    "    return df"
   ]
  },
  {
   "cell_type": "markdown",
   "metadata": {
    "canvas": {
     "comments": [],
     "componentType": "CodeCell",
     "copiedOriginId": null,
     "diskcache": false,
     "headerColor": "none",
     "id": "953b28bf-4bba-4ad6-9d58-70bc68fd916e",
     "isComponent": false,
     "name": "",
     "parents": []
    }
   },
   "source": [
    "# Randomforest"
   ]
  },
  {
   "cell_type": "code",
   "execution_count": null,
   "metadata": {
    "canvas": {
     "comments": [],
     "componentType": "CodeCell",
     "copiedOriginId": null,
     "diskcache": false,
     "headerColor": "none",
     "id": "bde024aa-e0a7-4bd7-80a0-55e603515ca7",
     "isComponent": true,
     "name": "rcf",
     "parents": [
      {
       "id": "efd2c46c-227a-4e75-9495-9c02dabce407",
       "name": "User define functions"
      }
     ]
    },
    "tags": []
   },
   "outputs": [],
   "source": [
    "rfc = RandomForestClassifier(n_estimators=100)\n",
    "rfc.fit(x_train, y_train)"
   ]
  },
  {
   "cell_type": "code",
   "execution_count": null,
   "metadata": {
    "canvas": {
     "comments": [],
     "componentType": "CodeCell",
     "copiedOriginId": null,
     "diskcache": false,
     "headerColor": "none",
     "id": "1f21195e-bb47-4ceb-924d-1dbf8636f354",
     "isComponent": false,
     "name": "",
     "parents": []
    }
   },
   "outputs": [],
   "source": [
    "draw_cm(rfc)"
   ]
  },
  {
   "cell_type": "code",
   "execution_count": null,
   "metadata": {
    "canvas": {
     "comments": [],
     "componentType": "CodeCell",
     "copiedOriginId": null,
     "diskcache": false,
     "headerColor": "none",
     "id": "80fb9be5-efec-4f15-b101-e0b114d2c0b2",
     "isComponent": false,
     "name": "",
     "parents": []
    }
   },
   "outputs": [],
   "source": [
    "metrices(rfc)"
   ]
  },
  {
   "cell_type": "code",
   "execution_count": null,
   "metadata": {
    "canvas": {
     "comments": [],
     "componentType": "CodeCell",
     "copiedOriginId": null,
     "diskcache": false,
     "headerColor": "inherit",
     "id": "f9f6f463-2495-47aa-a5c8-433a1aeea700",
     "isComponent": false,
     "name": "",
     "parents": []
    }
   },
   "outputs": [],
   "source": []
  }
 ],
 "metadata": {
  "canvas": {
   "colorPalette": [
    "inherit",
    "inherit",
    "inherit",
    "inherit",
    "inherit",
    "inherit",
    "inherit",
    "inherit",
    "inherit",
    "inherit"
   ],
   "parameters": [],
   "version": "1.0"
  },
  "kernelspec": {
   "display_name": "Python 3 (ipykernel)",
   "language": "python",
   "name": "python3"
  },
  "language_info": {
   "codemirror_mode": {
    "name": "ipython",
    "version": 3
   },
   "file_extension": ".py",
   "mimetype": "text/x-python",
   "name": "python",
   "nbconvert_exporter": "python",
   "pygments_lexer": "ipython3",
   "version": "3.7.16"
  }
 },
 "nbformat": 4,
 "nbformat_minor": 4
}
